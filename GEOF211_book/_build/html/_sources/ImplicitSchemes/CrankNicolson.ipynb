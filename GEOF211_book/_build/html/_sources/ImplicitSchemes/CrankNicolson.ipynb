{
 "cells": [
  {
   "cell_type": "markdown",
   "id": "014b9d5e",
   "metadata": {},
   "source": [
    "(scheme:crank-nicholson)=\n",
    "# The Crank-Nicholson Scheme for linear advection\n",
    "\n",
    "Until now, all schemes have time step limitations in the form of the CFL condition $c\\Delta t/\\Delta x \\leq 1$. One way to overcome that limitation is to use *implicit* schemes, where the spatial derivatives are evaluated at $t^{n+1}$. One such scheme is the Crank-Nicholson scheme, which was, originally designed o solve the diffusion equation (heat conduction). Here, we show the Crank-Nicolson scheme for linear advection:\n",
    "\n",
    "$$\n",
    "  \\frac{u_m^{n+1}-u_m^n}{\\Delta t} = -\\frac{a}{2\\Delta x}\\left(\\frac{u_{m+1}^{n+1}-u_{m-1}^{n+1}}{2} + \\frac{u_{m+1}^{n}-u_{m-1}^{n}}{2}\\right)\n",
    "$$ (eq:schemeCrankNicholson)\n",
    "\n",
    "The scheme is a modification of the FTCS (Forward in time, centered in space) scheme. It uses the forward approximation to the time derivative at $t^n$ and the average of the centred approximations of the space derivative at $t^n$ and $t^{n+1}$.\n",
    "\n",
    "Another way of looking at {eq}`eq:schemeCrankNicholson` is that the left hand side (LHS) is a centred approximation of the time derivative at $t^{n+1/2}$ and the averaging of the spatial derivatives provides an estimate of the spatial derivative at $t^{n+1/2}$.\n",
    "\n",
    "The use of the terms at $t^{n+1}$ poses a complication because these are not known at time $t^n$. Therefore, the scheme is not an explicit time marching scheme as we have seen so far, but one where the solution is implicit in the scheme itself, hence the designation of *implicit* scheme. To obtain the unknown values at $t^{n+1}$, a linear system of equations must be solved. \n",
    "\n",
    "We can expand {eq}`eq:schemeCrankNicholson` to obtain \n",
    "\n",
    "$$\n",
    "  -\\frac{\\sigma}{4}u_{m-1}^{n+1}  + u_m^{n+1} + \\frac{\\sigma}{4}u_{m+1}^{n+1} =\n",
    "    \\frac{\\sigma}{4}u_{m-1}^{n}  + u_m^{n} - \\frac{\\sigma}{4}u_{m+1}^{n},\\quad \\sigma = a\\frac{\\Delta t}{\\Delta x}   \n",
    "$$\n",
    "\n",
    "that is a linear system of equations \n",
    "\n",
    "$$\n",
    "  A\\mathbf{u}^{n+1}=B\\mathbf{u}^{n}.\n",
    "$$ (eq:schemeAB)\n",
    "\n",
    "The matrices $A$ and $B$, are in the case of Dirichlet boundary conditions $u(0,t)=u(L,t)=0$. If you boundary conditions where $u(0,t)\\neq 0$ and $u(L,t)\\neq 0$, you will need to consider what value they take, and extend the matrices A and B with one column for $u(0,t)$ and one for $u(L,t)$ at either side of the matrices. \n",
    "\n",
    "$$\n",
    "A = \n",
    "\\begin{pmatrix}\n",
    "  1                        & \\frac{\\sigma}{4}   & 0                             &         0                & \\cdots & 0\\\\\n",
    "  -\\frac{\\sigma}{4} & 1                         & \\frac{\\sigma}{4}       &         0                & \\cdots & 0\\\\\n",
    "                          0 & -\\frac{\\sigma}{4} & 1                              & \\frac{\\sigma}{4} & \\cdots & 0\\\\\n",
    "            \\vdots       &          \\vdots        &   \\vdots                     & \\ddots               & \\vdots  & \\vdots\\\\\n",
    "            0               &              \\cdots           &            0             & -\\frac{\\sigma}{4} & 1                         & \\frac{\\sigma}{4} \\\\\n",
    "         0               &              \\cdots           &        0                 & 0                 &-\\frac{\\sigma}{4} & 1                         \\\\\n",
    "\\end{pmatrix}\n",
    "$$\n",
    "\n",
    "$$\n",
    "B = \n",
    "\\begin{pmatrix}\n",
    "  1                        & -\\frac{\\sigma}{4}   & 0                             &         0                & \\cdots & 0\\\\\n",
    "  \\frac{\\sigma}{4} & 1                         & -\\frac{\\sigma}{4}       &         0                & \\cdots & 0\\\\\n",
    "                          0 & \\frac{\\sigma}{4} & 1                              & -\\frac{\\sigma}{4} & \\cdots & 0\\\\\n",
    "            \\vdots       &          \\vdots        &   \\vdots                     & \\ddots               & \\vdots  & \\vdots\\\\\n",
    "            0               &              \\cdots           &            0             & \\frac{\\sigma}{4} & 1                         & -\\frac{\\sigma}{4} \\\\\n",
    "         0               &              \\cdots           &        0                 & 0                 &\\frac{\\sigma}{4} & 1                         \\\\\n",
    "\\end{pmatrix}\n",
    "$$\n",
    "\n",
    "In the case $A$ and $B$ are tridiagonal, as above, the solution of the linear system {eq}`eq:schemeAB` is expedite. In other cases, iterative methods must be used.\n",
    "\n",
    "## Consistency, stability and convergence\n",
    "\n",
    "The scheme has a truncation error $O(\\Delta t^2,\\Delta x^2)$, since the spatial derivatives are approximated by a centred formula and the time derivative also, at $t^{n+1/2}$.\n",
    "The stability of the scheme can be determined by the usual method of assuming a solution of the form $B^n e^{ikm\\Delta x}$ and noting that\n",
    "\n",
    "$$\n",
    "    u_{m+1}^{n}-u_{m-1}^{n} = (2i\\sin k\\Delta x)u_{m}^{n}\n",
    "$$\n",
    "\n",
    "we arrive at the following amplification factor:\n",
    "\n",
    "$$\n",
    "   G = \\frac{u_{m}^{n+1}}{u_{m}^{n}} = \\frac{1-(\\sigma/2)i\\sin k\\Delta x}{1+(\\sigma/2)i\\sin k \\Delta x},\n",
    "$$(eq:ampFactorCN)\n",
    "\n",
    "whose norm $|G|$ is\n",
    "\n",
    "$$\n",
    " |G| = \\left| \\frac{1-(\\sigma/2)i\\sin k \\Delta x}{1+(\\sigma/2)i\\sin k \\Delta x}\\right| = \n",
    "    \\frac{ \\left|1-(\\sigma/2)i\\sin k \\Delta x\\right|}{ \\left|1+(\\sigma/2)i\\sin k \\Delta x\\right|} = 1.\n",
    "$$\n",
    "\n",
    "The scheme is, therefore, *unconditionally stable* and doesn't suffer from CFL limitations, unlike the previous explicit schemes.\n",
    "\n",
    "## Application: propagation of top hat function\n",
    "\n",
    "To test the scheme, we are going to apply it to the propagation of the top hat signal."
   ]
  },
  {
   "cell_type": "code",
   "execution_count": 1,
   "id": "901dd3fc",
   "metadata": {
    "tags": [
     "hide-cell"
    ]
   },
   "outputs": [],
   "source": [
    "def topHat(x):\n",
    "   f0=np.zeros(x.shape)\n",
    "   f0[(x>0.45) & (x<0.55)]=1\n",
    "\n",
    "   return f0"
   ]
  },
  {
   "cell_type": "markdown",
   "id": "ea15a20f",
   "metadata": {},
   "source": [
    "The Crank-Nicholson scheme is implemented in the following Python function:"
   ]
  },
  {
   "cell_type": "code",
   "execution_count": 2,
   "id": "b0c2e47e",
   "metadata": {
    "tags": [
     "hide-cell"
    ]
   },
   "outputs": [],
   "source": [
    "def crankNicholson(u0,a,dt,dx,N,M):\n",
    "\n",
    "    # Initial condition\n",
    "    u=u0.copy()\n",
    "\n",
    "    # CFL number\n",
    "    C = a*dt/dx\n",
    "    \n",
    "    # System of equations\n",
    "    \n",
    "    # Au^(n+1) = B*u^n\n",
    "    \n",
    "    # Fill matrices\n",
    "    alpha=0.5\n",
    "\n",
    "    r1=(1-alpha)*C/2\n",
    "    r2=alpha*C/2\n",
    "    \n",
    "    ones = np.ones((M-2,))\n",
    "    H = spdiags( [-r2*ones, ones, r2*ones], (-1,0,1), M-2, M-2 )\n",
    "    B = spdiags( [r1*ones, ones, -r1*ones], (-1,0,1), M-2, M-2 )\n",
    "  \n",
    "    for l in range(1, N):\n",
    "        \n",
    "        V=B*u[1:-1]\n",
    "        u[1:-1] = spsolve(H.tocsc(), V)\n",
    "        \n",
    "    return u"
   ]
  },
  {
   "cell_type": "markdown",
   "id": "f7a4a77f",
   "metadata": {},
   "source": [
    "In the next code snippet, we set the discretization parameters and integrate the initial condition with the Crank-Nicholson scheme:"
   ]
  },
  {
   "cell_type": "code",
   "execution_count": 3,
   "id": "998120f2",
   "metadata": {
    "tags": [
     "hide-input"
    ]
   },
   "outputs": [
    {
     "name": "stdout",
     "output_type": "stream",
     "text": [
      "Number of time steps = 30\n",
      "Number of grid points = 100\n",
      "Time step = 0.010000\n",
      "Grid size = 0.010000\n"
     ]
    },
    {
     "ename": "NameError",
     "evalue": "name 'c' is not defined",
     "output_type": "error",
     "traceback": [
      "\u001b[1;31m---------------------------------------------------------------------------\u001b[0m",
      "\u001b[1;31mNameError\u001b[0m                                 Traceback (most recent call last)",
      "Cell \u001b[1;32mIn[3], line 17\u001b[0m\n\u001b[0;32m     15\u001b[0m \u001b[38;5;28mprint\u001b[39m(\u001b[38;5;124m\"\u001b[39m\u001b[38;5;124mTime step = \u001b[39m\u001b[38;5;132;01m{:f}\u001b[39;00m\u001b[38;5;124m\"\u001b[39m\u001b[38;5;241m.\u001b[39mformat(dt))\n\u001b[0;32m     16\u001b[0m \u001b[38;5;28mprint\u001b[39m(\u001b[38;5;124m\"\u001b[39m\u001b[38;5;124mGrid size = \u001b[39m\u001b[38;5;132;01m{:f}\u001b[39;00m\u001b[38;5;124m\"\u001b[39m\u001b[38;5;241m.\u001b[39mformat(dx))\n\u001b[1;32m---> 17\u001b[0m \u001b[38;5;28mprint\u001b[39m(\u001b[38;5;124m\"\u001b[39m\u001b[38;5;124mCFL number = \u001b[39m\u001b[38;5;132;01m{:f}\u001b[39;00m\u001b[38;5;124m\"\u001b[39m\u001b[38;5;241m.\u001b[39mformat(\u001b[43mc\u001b[49m\u001b[38;5;241m*\u001b[39mdt\u001b[38;5;241m/\u001b[39mdx))\n\u001b[0;32m     19\u001b[0m \u001b[38;5;66;03m# Grid points\u001b[39;00m\n\u001b[0;32m     20\u001b[0m X\u001b[38;5;241m=\u001b[39mnp\u001b[38;5;241m.\u001b[39mlinspace(\u001b[38;5;241m0\u001b[39m,\u001b[38;5;241m1\u001b[39m,M)\n",
      "\u001b[1;31mNameError\u001b[0m: name 'c' is not defined"
     ]
    }
   ],
   "source": [
    "import numpy as np\n",
    "import matplotlib.pyplot as plt\n",
    "from scipy.sparse.linalg import spsolve\n",
    "from scipy.sparse import spdiags\n",
    "\n",
    "N     = 30       # Number of time steps\n",
    "M     = 100      # Number of grid points\n",
    "a     = 0.75     # Propagation speed\n",
    "\n",
    "dt = 0.01\n",
    "dx = 1/M\n",
    "\n",
    "print(\"Number of time steps = {:d}\".format(N))\n",
    "print(\"Number of grid points = {:d}\".format(M))\n",
    "print(\"Time step = {:f}\".format(dt))\n",
    "print(\"Grid size = {:f}\".format(dx))\n",
    "print(\"CFL number = {:f}\".format(c*dt/dx))\n",
    "\n",
    "# Grid points\n",
    "X=np.linspace(0,1,M)\n",
    "\n",
    "# Integrate the initial condition N time steps\n",
    "U=crankNicholson(topHat(X),a,dt,dx,N,M)"
   ]
  },
  {
   "cell_type": "markdown",
   "id": "ab21af6f",
   "metadata": {},
   "source": [
    "The solution at the end of the integration is shown below:"
   ]
  },
  {
   "cell_type": "code",
   "execution_count": null,
   "id": "5a28b126",
   "metadata": {
    "tags": [
     "hide-input"
    ]
   },
   "outputs": [],
   "source": [
    "# Shift the exact solution a distance equivalent to a*N*dt\n",
    "newX = np.mod(X-a*N*dt,1)\n",
    "\n",
    "fig, ax0 = plt.subplots()\n",
    "\n",
    "ax0.plot(X, U, lw = 2, color = \"b\",  label='Crank-Nicholson')\n",
    "ax0.plot(X, topHat(newX), lw = 1, color = \"m\",  label='Exact')\n",
    "\n",
    "ax0.set_title(\"Crank-Nicholson Solution at t={:5.2f}\".format(N*dt))\n",
    "ax0.set_xlabel('$x$')\n",
    "ax0.set_xlim([0, 1])\n",
    "ax0.set_ylabel('$u$')\n",
    "ax0.legend()\n",
    "\n",
    "plt.show()"
   ]
  },
  {
   "cell_type": "markdown",
   "id": "9e05a114",
   "metadata": {},
   "source": [
    "The unconditional stability of the implicit Crank-Nicholson scheme is its great advantage, but it's use in the advection equation has unwanted consequences in the form of dispersion and errors in the phase speed. The comparison with the Leapfrog scheme shows that the scheme, although unconditionally stable still suffers from dispersive behaviour.\n",
    "\n",
    "\n",
    "\n",
    "From {eq}`eq:ampFactorCN`, we can write\n",
    "\n",
    "$$\n",
    "   \\mathbf{u}^n = G\\mathbf{u}^{n-1}= \\dotso = G^{(n)} \\mathbf{u}^0\n",
    "$$\n",
    "\n",
    "or\n",
    "\n",
    "$$\n",
    "   u_m^n = BG^{(n)} e^{i\\lambda m\\Delta x}\n",
    "$$\n",
    "\n",
    "Substituting {eq}`eq:ampFactorCN`, we obtain the following expression for the phase speed $c_F$ of the numerical solution\n",
    "\n",
    "$$\n",
    "  c_F = \\frac{2\\theta}{k \\Delta t}, \\quad \\theta = \\tan^{-1}\\left( \\frac{\\sigma}{2} \\sin k \\Delta x \\right)\n",
    "$$\n",
    "\n",
    "For shortwaves in the numerical solution, e.g. the $2\\Delta x$ wavelength, we have $k = \\pi/\\Delta x$ and $\\theta = \\tan^{-1} (\\sigma/2 \\sin \\pi)=0$, which means the shortwave is stationary. For large wavelength, we have $k \\Delta x \\ll 1$ and\n",
    "\n",
    "$$\n",
    "  \\theta = \\tan^{-1} {\\frac{\\sigma}{2} \\sin k \\Delta x} = \\tan^{-1} (\\frac{ak \\Delta t}{2})\n",
    "$$\n",
    "\n",
    "For small $\\Delta t$, we'll have $\\theta = \\frac{ak \\Delta t}{2} $ and $a_F = a$. But for large $\\Delta t$, it will be $\\theta = \\pi/2$ and $a_F = \\pi/\\Delta t \\lambda$, which is independent of $a$. \n",
    "\n",
    "Therefore, either for shortwave components or long wavelengths we will have errors in the phase speed of the numerical solution that make the use of the Crank-Nicholson scheme dubious for the linear advection problem."
   ]
  }
 ],
 "metadata": {
  "jupytext": {
   "formats": "md:myst",
   "text_representation": {
    "extension": ".md",
    "format_name": "myst"
   }
  },
  "kernelspec": {
   "display_name": "Python 3",
   "language": "python",
   "name": "python3"
  },
  "language_info": {
   "codemirror_mode": {
    "name": "ipython",
    "version": 3
   },
   "file_extension": ".py",
   "mimetype": "text/x-python",
   "name": "python",
   "nbconvert_exporter": "python",
   "pygments_lexer": "ipython3",
   "version": "3.12.4"
  },
  "source_map": [
   11,
   96,
   104,
   108,
   139,
   143,
   170,
   174,
   193
  ]
 },
 "nbformat": 4,
 "nbformat_minor": 5
}