{
 "cells": [
  {
   "cell_type": "markdown",
   "id": "c313b8a7",
   "metadata": {},
   "source": [
    "(Useful_calculus:Fourier Transforms)=\n",
    "# Fourier transforms\n",
    "\n",
    "## Superposition of waves\n",
    "When two or more waves meet, for example when two boats pass each other, their wake waves will overlap in space. The surface displacement (amplitude) will, at any point, be the sum of the surface displacement for the individual waves.\n",
    "\n",
    "When looking at the ocean surface, the surface elevation can be regarded as the sum of (superposition) of many waves of different frequencies and phases.\n",
    "\n",
    "Insert figure of individual waves and the superposition"
   ]
  },
  {
   "cell_type": "code",
   "execution_count": 1,
   "id": "a80812af",
   "metadata": {
    "tags": [
     "hide-input"
    ]
   },
   "outputs": [
    {
     "ename": "NameError",
     "evalue": "name 'amplitudes' is not defined",
     "output_type": "error",
     "traceback": [
      "\u001b[1;31m---------------------------------------------------------------------------\u001b[0m",
      "\u001b[1;31mNameError\u001b[0m                                 Traceback (most recent call last)",
      "Cell \u001b[1;32mIn[1], line 13\u001b[0m\n\u001b[0;32m     10\u001b[0m amlitudes\u001b[38;5;241m=\u001b[39mnp\u001b[38;5;241m.\u001b[39marray([\u001b[38;5;241m1.\u001b[39m,\u001b[38;5;241m2.\u001b[39m,\u001b[38;5;241m4.\u001b[39m])\n\u001b[0;32m     12\u001b[0m \u001b[38;5;66;03m# compute the wave signals\u001b[39;00m\n\u001b[1;32m---> 13\u001b[0m wave1 \u001b[38;5;241m=\u001b[39m \u001b[43mamplitudes\u001b[49m[\u001b[38;5;241m0\u001b[39m] \u001b[38;5;241m*\u001b[39m np\u001b[38;5;241m.\u001b[39msin(\u001b[38;5;241m2\u001b[39m \u001b[38;5;241m*\u001b[39m np\u001b[38;5;241m.\u001b[39mpi \u001b[38;5;241m*\u001b[39m frequencies[\u001b[38;5;241m0\u001b[39m] \u001b[38;5;241m*\u001b[39m t \u001b[38;5;241m+\u001b[39m phases[\u001b[38;5;241m0\u001b[39m])\n\u001b[0;32m     14\u001b[0m wave2 \u001b[38;5;241m=\u001b[39m amplitudes[\u001b[38;5;241m1\u001b[39m] \u001b[38;5;241m*\u001b[39m np\u001b[38;5;241m.\u001b[39msin(\u001b[38;5;241m2\u001b[39m \u001b[38;5;241m*\u001b[39m np\u001b[38;5;241m.\u001b[39mpi \u001b[38;5;241m*\u001b[39m frequencies[\u001b[38;5;241m1\u001b[39m] \u001b[38;5;241m*\u001b[39m t \u001b[38;5;241m+\u001b[39m phases[\u001b[38;5;241m1\u001b[39m])\n\u001b[0;32m     15\u001b[0m wave3 \u001b[38;5;241m=\u001b[39m amplitudes[\u001b[38;5;241m2\u001b[39m] \u001b[38;5;241m*\u001b[39m np\u001b[38;5;241m.\u001b[39msin(\u001b[38;5;241m2\u001b[39m \u001b[38;5;241m*\u001b[39m np\u001b[38;5;241m.\u001b[39mpi \u001b[38;5;241m*\u001b[39m frequencies[\u001b[38;5;241m2\u001b[39m] \u001b[38;5;241m*\u001b[39m t \u001b[38;5;241m+\u001b[39m phases[\u001b[38;5;241m2\u001b[39m])\n",
      "\u001b[1;31mNameError\u001b[0m: name 'amplitudes' is not defined"
     ]
    }
   ],
   "source": [
    "import numpy as np\n",
    "import matplotlib.pyplot as plt\n",
    "\n",
    "# Create time values\n",
    "t = np.linspace(0, 8 * np.pi, 1000) #eight cycles\n",
    "\n",
    "#define frequencies, phases, and amplitudes of three sine waves\n",
    "frequencies=np.array([1.,2.,4.])\n",
    "phases=np.pi*np.array([1.,1./2,1./4])\n",
    "amlitudes=np.array([1.,2.,4.])\n",
    "\n",
    "# compute the wave signals\n",
    "wave1 = amplitudes[0] * np.sin(2 * np.pi * frequencies[0] * t + phases[0])\n",
    "wave2 = amplitudes[1] * np.sin(2 * np.pi * frequencies[1] * t + phases[1])\n",
    "wave3 = amplitudes[2] * np.sin(2 * np.pi * frequencies[2] * t + phases[2])\n",
    "\n",
    "#plot the wave signals\n",
    "fig, ax = plt.subplots(2,1,shareX=True)\n",
    "ax[0].set_xlim(( 0, 8*np.pi))\n",
    "ax[0].set_ylim((-4, 4))\n",
    "\n",
    "line1, = ax[0].plot(t, wave1, lw = 2, label='wave 1')\n",
    "line2, = ax[0].plot(t, wave2, lw = 2, label='wave 2')\n",
    "line3, = ax[0].plot(t, wave3, lw = 2, label='wave 3')\n",
    "\n",
    "line4, = ax[1].plot(t, wave1+wave2+wave3, lw = 2, label='Superposition')\n",
    "\n",
    "ax[0].set_ylabel('f')\n",
    "ax[0].set_title(\"Initial Condition\")\n",
    "ax[0].legend()\n",
    "ax[1].legend()\n",
    "ax[1].set_xlabel('t')"
   ]
  },
  {
   "cell_type": "markdown",
   "id": "8c813831",
   "metadata": {},
   "source": [
    "## Time/space domain versus frequency domain - The Fourier Series\n",
    "\n",
    "A data signal can be represented in either a time/space domain or a frequency domain. \n",
    "\n",
    "The time domain represents how the signal (for example air temperature) is changing with time, $t$. The time is running along the horizontal axis and the temperature is in the vertical axis. Mathematically, we would say that the temperature is a function of time, $f(t)$. Similarly, the space domain represents how the signal (for example air temperature) is changing with space or distance, $x$. Then, the resulting function would be $f(x)$. \n",
    "\n",
    "To get a meaningful interpretation of the frequency domain, we must first approximate our signal by a superposition of many waves with different frequencies, amplitudes, and phases. The more frequencies we include in the superposition, the better the approximation is.\n",
    "\n",
    "The amplitude of each wave in the superposition, can be derived from the following equation:\n",
    "\n",
    "$$\n",
    "c_n=\\frac{1}{T}\\int_{-t/2}^{T/2}f(t)e^{-i\\frac{2\\pi}{T}t}dt\n",
    "$$ (eq:Fourier_series_amplitude)\n",
    "\n",
    "The approximated signal is called the Fourier series, and is calculated from:\n",
    "\n",
    "$$\n",
    "f(x)=\\sum_{n=-\\infty}^\\infty c_n e^{i 2\\pi\\frac{n}{T}t}, t\\in[-T/2,T/2]\n",
    "$$ (eq:Fourier_series)\n",
    "\n",
    ", where T represent a certain Time period of interest.\n",
    "\n",
    "When we have created our approximated signal, we can calculate the amount of energy (wave amplitude) related to each frequency. The result is a function that displays the energy as a function of frequency. If we let $t\\rightarrow \\infty$ and include enough wave frequencies to allow $n/T \\rightarrow \\xi$ we can now write a function of the amount of energy as in terms of each wave. This is how our signal looks in the frequency domain, and this function is called the Fourier transform:\n",
    "\n",
    "$$\n",
    "\\hat{f}(\\xi)=\\int_{-\\infty}^\\infty f(t)e^{-i2\\pi\\xi t}dt\n",
    "$$ (eq:Fourier_transform)\n",
    "\n",
    "Here, the function $\\hat{f}(\\xi)$ represent energy as a function of the frequency $\\xi$. If the signal consisted of just one pure sine wave, the graph of $\\hat{f}(\\xi)$ would contain a single spike at the frequency of this sine wave.\n",
    "\n",
    "# Gibbs phenomenon\n",
    "In practice, we typically cannot include an infinite number of terms in the Fourier series to represent a signal. using a limited number of components works fine for continuous signals, but will produce errors (overshoots and undershoots) near discontinuities and areas wih strong gradients. This is called the Gibbs phenomenon."
   ]
  }
 ],
 "metadata": {
  "jupytext": {
   "formats": "md:myst",
   "text_representation": {
    "extension": ".md",
    "format_name": "myst"
   }
  },
  "kernelspec": {
   "display_name": "Python 3",
   "language": "python",
   "name": "python3"
  },
  "language_info": {
   "codemirror_mode": {
    "name": "ipython",
    "version": 3
   },
   "file_extension": ".py",
   "mimetype": "text/x-python",
   "name": "python",
   "nbconvert_exporter": "python",
   "pygments_lexer": "ipython3",
   "version": "3.12.4"
  },
  "source_map": [
   11,
   22,
   58
  ]
 },
 "nbformat": 4,
 "nbformat_minor": 5
}