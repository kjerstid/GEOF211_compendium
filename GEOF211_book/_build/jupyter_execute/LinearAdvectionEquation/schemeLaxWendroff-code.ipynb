{
 "cells": [
  {
   "cell_type": "markdown",
   "id": "407933b2",
   "metadata": {},
   "source": [
    "(scheme:lax-wendroff)=\n",
    "# The Lax-Wendroff Scheme\n",
    "\n",
    "The Lax-Wendroff scheme can be derived in several ways. We shall derive it from a *multi-step* perspective and from a Taylor expansion perspective. \n",
    "\n",
    "## Lax-Wendroff 2-step approach\n",
    "\n",
    "The idea is to compute $u_k^{n+1}$ using not the time derivative at $t=n\\Delta t$, but that at the *half-step* $t=n\\Delta t + \\Delta t/2=(n+1/2)\\Delta t$\n",
    "\n",
    "$$\n",
    "\tu_k^{n+1}=u_k^n+\\Delta t\\left(-c\\frac{\\partial u}{\\partial x}\\mid_{k,n+1/2}\\right)\n",
    "$$\n",
    "\n",
    "To obtain the spatial derivative at the half-time step, we must have the function values at $t^{n+1/2}$, or\n",
    "\n",
    "$$\n",
    "\tu_k^{n+1/2}=u_k^n+\\frac{\\Delta t}{2}\\left(-a\\frac{\\partial u}{\\partial x}\\mid_{k,n}\\right).\n",
    "$$\n",
    "\n",
    "The Lax-Wendroff method thus involves two steps:\n",
    "\n",
    " **1:** First, compute $\\frac{\\partial u}{\\partial x}\\mid_{k,n+1/2}$ using central differences, that involve the *mid-points* $k+1/2$ and $k-1/2$:\n",
    "\n",
    "$$\n",
    "\tu_{k-1/2}^{n+1/2}=\\frac{1}{2}(u_k^n+u_{k-1}^n)-a\\frac{\\Delta t}{2\\Delta x}(u_k^n-u_{k-1}^n)\n",
    "$$\n",
    "$$\n",
    "\tu_{k+1/2}^{n+1/2}=\\frac{1}{2}(u_{k+1}^n+u_{k}^n)-a\\frac{\\Delta t}{2\\Delta x}(u_{k+1}^n-u_{k}^n)\n",
    "$$\n",
    " **2:** Compute $u_k^{n+1}$ using the spatial derivative at $n+1/2$:\n",
    "\n",
    "$$\n",
    "\tu_{k}^{n+1}=u_k^n-a\\frac{\\Delta t}{2\\Delta x}(u_{k+1/2}^{n+1/2}-u_{k-1/2}^{n+1/2})\n",
    "$$\n",
    "\n",
    "## Lax Wendroff 1-step approach from Taylor expansions\n",
    "\n",
    "To be updated soon...\n",
    "\n",
    "## Consistency, stability and convergence\n",
    "\n",
    "The scheme is 2nd order in time and space. To determine its stability we can express the scheme as:\n",
    "\n",
    "$$\n",
    "\tu_k^{n+1} = \\alpha u_{k-1}^n + \\beta u_k^n + \\gamma u_{k+1}^n\n",
    "$$\n",
    "\n",
    "with \n",
    "\n",
    "\\begin{align}\n",
    "\t\\alpha &= \\frac{\\sigma}{2}(\\sigma + 1),\\\\\n",
    "\t\\beta &= 1- \\sigma^2, \\\\\n",
    "\t\\gamma &= \\frac{\\sigma}{2}(\\sigma - 1)\n",
    "\\end{align}\n",
    "\n",
    "Assuming a solution of the type $B^n e^{i\\lambda k \\Delta x}$, the amplification factor is \n",
    "\n",
    "$$\n",
    "\tG=(1+\\sigma^2(\\cos \\lambda \\Delta x - 1)) - i\\sigma \\sin \\lambda \\Delta x\n",
    "$$\n",
    "\n",
    "which has a norm \n",
    "\n",
    "$$\n",
    "\t|G|^2 = 1-\\sigma^2(1-\\sigma^2)(1 - \\cos \\lambda \\Delta x)^2.\n",
    "$$\n",
    "\n",
    "For the method to be stable, the condition is $|G|^2 \\leq 1$ which provides the following stability condition\n",
    "\n",
    "$$\n",
    "\t1-\\sigma^2 \\ge 0 \\Leftrightarrow \\sigma = \\frac{a\\Delta t}{\\Delta x} \\leq 1.\n",
    "$$\n",
    "\n",
    "which is the well-known CFL condition.\n",
    "\n",
    "## Application: propagation of top hat function\n",
    "\n",
    "As before, we apply the Lax-Wendroff scheme to the top hat initial condition."
   ]
  },
  {
   "cell_type": "code",
   "execution_count": 1,
   "id": "a4d44d56",
   "metadata": {
    "tags": [
     "hide-cell"
    ]
   },
   "outputs": [],
   "source": [
    "def topHat(x):\n",
    "   f0=np.zeros(x.shape)\n",
    "   f0[(x>0.45) & (x<0.55)]=1\n",
    "\n",
    "   return f0"
   ]
  },
  {
   "cell_type": "markdown",
   "id": "8cee5dce",
   "metadata": {},
   "source": [
    "The Lax-Wendroff scheme is implemented in the following Python function:"
   ]
  },
  {
   "cell_type": "code",
   "execution_count": 2,
   "id": "bc6259d7",
   "metadata": {
    "tags": [
     "hide-cell"
    ]
   },
   "outputs": [],
   "source": [
    "def LaxWendroff(u0,a,dt,dx,N,M):\n",
    "    \n",
    "    # Initial condition\n",
    "    u=u0.copy()\n",
    "    \n",
    "    # Temporary arrays for step 1 solution\n",
    "    um2=np.zeros((M-1,))\n",
    "    up2=np.zeros((M-1,))\n",
    "\n",
    "    # CFL number\n",
    "    C = a*dt/dx\n",
    "    \n",
    "    for l in range(N):\n",
    "        \n",
    "        # Inflow B.C.\n",
    "        u[0]  = u[0] - C * (u[0] - u[M-2])\n",
    "        \n",
    "        # Step 1: compute u at mid-points k +/- 1/2 and half-step n+1/2\n",
    "        \n",
    "        um2=0.5*(u[1:-1]+u[0:-2])-C/2*(u[1:-1]-u[0:-2])\n",
    "        up2=0.5*(u[2:]+u[1:-1])-C/2*(u[2:]-u[1:-1])\n",
    "        \n",
    "        # Step 2\n",
    "        u[1 : M-1] = u[1 : M-1] - C*(up2-um2)\n",
    "        \n",
    "        u[M-1]  = u[0]\n",
    "    \n",
    "    return u"
   ]
  },
  {
   "cell_type": "markdown",
   "id": "fac8476d",
   "metadata": {},
   "source": [
    "In the next code snippet, we set the discretization parameters and integrate the initial condition with the Lax-Wendroff scheme:"
   ]
  },
  {
   "cell_type": "code",
   "execution_count": 3,
   "id": "2a13f049",
   "metadata": {
    "tags": [
     "hide-input"
    ]
   },
   "outputs": [
    {
     "ename": "ModuleNotFoundError",
     "evalue": "No module named 'numpy'",
     "output_type": "error",
     "traceback": [
      "\u001b[0;31m---------------------------------------------------------------------------\u001b[0m",
      "\u001b[0;31mModuleNotFoundError\u001b[0m                       Traceback (most recent call last)",
      "Cell \u001b[0;32mIn[3], line 1\u001b[0m\n\u001b[0;32m----> 1\u001b[0m \u001b[38;5;28;01mimport\u001b[39;00m\u001b[38;5;250m \u001b[39m\u001b[38;5;21;01mnumpy\u001b[39;00m\u001b[38;5;250m \u001b[39m\u001b[38;5;28;01mas\u001b[39;00m\u001b[38;5;250m \u001b[39m\u001b[38;5;21;01mnp\u001b[39;00m\n\u001b[1;32m      2\u001b[0m \u001b[38;5;28;01mimport\u001b[39;00m\u001b[38;5;250m \u001b[39m\u001b[38;5;21;01mmatplotlib\u001b[39;00m\u001b[38;5;21;01m.\u001b[39;00m\u001b[38;5;21;01mpyplot\u001b[39;00m\u001b[38;5;250m \u001b[39m\u001b[38;5;28;01mas\u001b[39;00m\u001b[38;5;250m \u001b[39m\u001b[38;5;21;01mplt\u001b[39;00m\n\u001b[1;32m      4\u001b[0m N     \u001b[38;5;241m=\u001b[39m \u001b[38;5;241m30\u001b[39m       \u001b[38;5;66;03m# Number of time steps\u001b[39;00m\n",
      "\u001b[0;31mModuleNotFoundError\u001b[0m: No module named 'numpy'"
     ]
    }
   ],
   "source": [
    "import numpy as np\n",
    "import matplotlib.pyplot as plt\n",
    "\n",
    "N     = 30       # Number of time steps\n",
    "M     = 100      # Number of grid points\n",
    "a     = 0.75     # Propagation speed\n",
    "\n",
    "dt = 0.01\n",
    "dx = 1/M\n",
    "\n",
    "print(\"Number of time steps = {:d}\".format(N))\n",
    "print(\"Number of grid points = {:d}\".format(M))\n",
    "print(\"Time step = {:f}\".format(dt))\n",
    "print(\"Grid size = {:f}\".format(dx))\n",
    "print(\"CFL number = {:f}\".format(a*dt/dx))\n",
    "\n",
    "# Grid points\n",
    "X=np.linspace(0,1,M)\n",
    "\n",
    "# Integrate the initial condition N time steps\n",
    "U=LaxWendroff(topHat(X),a,dt,dx,N,M)"
   ]
  },
  {
   "cell_type": "markdown",
   "id": "bfc3a8fd",
   "metadata": {},
   "source": [
    "The solution at the end of the integration is shown below:"
   ]
  },
  {
   "cell_type": "code",
   "execution_count": null,
   "id": "d5701759",
   "metadata": {
    "tags": [
     "hide-input"
    ]
   },
   "outputs": [],
   "source": [
    "# Shift the exact solution a distance equivalent to a*N*dt\n",
    "newX = np.mod(X-a*N*dt,1)\n",
    "\n",
    "fig, ax0 = plt.subplots()\n",
    "\n",
    "ax0.plot(X, U, lw = 2, color = \"b\",  label='Lax-Wendroff')\n",
    "ax0.plot(X, topHat(newX), lw = 1, color = \"m\",  label='Exact')\n",
    "\n",
    "ax0.set_title(\"Lax-Wendroff Solution at t={:5.2f}\".format(N*dt))\n",
    "ax0.set_xlabel('$x$')\n",
    "ax0.set_xlim([0, 1])\n",
    "ax0.set_ylabel('$u$')\n",
    "ax0.legend()\n",
    "\n",
    "plt.show()"
   ]
  },
  {
   "cell_type": "markdown",
   "id": "c198a125",
   "metadata": {},
   "source": [
    "The Lex-Wendroff scheme avoids the excessive numerical diffusion of the Upwind scheme, but oscillations are still visible at the sharp transitions of the top hat function. These oscillations are known as the Gibbs phenomenon."
   ]
  }
 ],
 "metadata": {
  "jupytext": {
   "formats": "md:myst",
   "text_representation": {
    "extension": ".md",
    "format_name": "myst"
   }
  },
  "kernelspec": {
   "display_name": "Python 3",
   "language": "python",
   "name": "python3"
  },
  "language_info": {
   "codemirror_mode": {
    "name": "ipython",
    "version": 3
   },
   "file_extension": ".py",
   "mimetype": "text/x-python",
   "name": "python",
   "nbconvert_exporter": "python",
   "pygments_lexer": "ipython3",
   "version": "3.9.6"
  },
  "source_map": [
   11,
   91,
   99,
   103,
   134,
   138,
   163,
   167,
   186
  ]
 },
 "nbformat": 4,
 "nbformat_minor": 5
}