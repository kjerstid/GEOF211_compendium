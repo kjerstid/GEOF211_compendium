{
 "cells": [
  {
   "cell_type": "markdown",
   "id": "4d397ff3",
   "metadata": {},
   "source": [
    "(scheme:lax-wendroff)=\n",
    "# The Lax-Wendroff Scheme\n",
    "\n",
    "The Lax-Wendroff scheme can be derived in several ways. We shall derive it from a *multi-step* perspective. The idea is to compute $u_m^{n+1}$ using not the time derivative at $t=n\\Delta t$, but that at the *half-step* $t=n\\Delta t + \\Delta t/2=(n+1/2)\\Delta t$\n",
    "\n",
    "$$\n",
    "\tu_m^{n+1}=u_m^n+\\Delta t\\left(-c\\frac{\\partial u}{\\partial x}\\mid_{m,n+1/2}\\right)\n",
    "$$\n",
    "\n",
    "To obtain the spatial derivative at the half-time step, we must have the function values at $t^{n+1/2}$, or\n",
    "\n",
    "$$\n",
    "\tu_m^{n+1/2}=u_m^n+\\frac{\\Delta t}{2}\\left(-c\\frac{\\partial u}{\\partial x}\\mid_{m,n}\\right).\n",
    "$$\n",
    "\n",
    "The Lax-Wendroff method thus involves two steps:\n",
    "\n",
    " **1:** First, compute $\\frac{\\partial u}{\\partial x}\\mid_{m,n+1/2}$ using central differences, that involve the *mid-points* $m+1/2$ and $m-1/2$:\n",
    "\n",
    "$$\n",
    "\tu_{m-1/2}^{n+1/2}=\\frac{1}{2}(u_m^n+u_{m-1}^n)-c\\frac{\\Delta t}{2\\Delta x}(u_m^n-u_{m-1}^n)\n",
    "$$\n",
    "$$\n",
    "\tu_{m+1/2}^{n+1/2}=\\frac{1}{2}(u_{m+1}^n+u_{m}^n)-c\\frac{\\Delta t}{2\\Delta x}(u_{m+1}^n-u_{m}^n)\n",
    "$$\n",
    " **2:** Compute $u_m^{n+1}$ using the spatial derivative at $n+1/2$:\n",
    "\n",
    "$$\n",
    "\tu_{m}^{n+1}=u_m^n-c\\frac{\\Delta t}{2\\Delta x}(u_{m+1/2}^{n+1/2}-u_{m-1/2}^{n+1/2})\n",
    "$$\n",
    "\n",
    "## Consistency, stability and convergence\n",
    "\n",
    "The scheme is 2nd order in time and space. To determine its stability we can express the scheme as:\n",
    "\n",
    "$$\n",
    "\tu_m^{n+1} = \\alpha u_{m-1}^n + \\beta u_m^n + \\gamma u_{m+1}^n\n",
    "$$\n",
    "\n",
    "with \n",
    "\n",
    "\\begin{align}\n",
    "\t\\alpha &= \\frac{\\sigma}{2}(\\sigma + 1),\\\\\n",
    "\t\\beta &= 1- \\sigma^2, \\\\\n",
    "\t\\gamma &= \\frac{\\sigma}{2}(\\sigma - 1)\n",
    "\\end{align}\n",
    "\n",
    "Assuming a solution of the type $B^n e^{i\\lambda m \\Delta x}$, the amplification factor is \n",
    "\n",
    "$$\n",
    "\tG=(1+\\sigma^2(\\cos \\lambda \\Delta x - 1)) - i\\sigma \\sin \\lambda \\Delta x\n",
    "$$\n",
    "\n",
    "which has a norm \n",
    "\n",
    "$$\n",
    "\t|G|^2 = 1-\\sigma^2(1-\\sigma^2)(1 - \\cos \\lambda \\Delta x)^2.\n",
    "$$\n",
    "\n",
    "For the method to be stable, the condition is $|G|^2 \\leq 1$ which provides the following stability condition\n",
    "\n",
    "$$\n",
    "\t1-\\sigma^2 \\ge 0 \\Leftrightarrow \\sigma = \\frac{c\\Delta t}{\\Delta x} \\leq 1.\n",
    "$$\n",
    "\n",
    "which is the well-known CFL condition.\n",
    "\n",
    "## Application: propagation of top hat function\n",
    "\n",
    "As before, we apply the Lax-Wendroff scheme to the top hat initial condition."
   ]
  },
  {
   "cell_type": "code",
   "execution_count": 1,
   "id": "2a8be859",
   "metadata": {
    "tags": [
     "hide-cell"
    ]
   },
   "outputs": [],
   "source": [
    "def topHat(x):\n",
    "   f0=np.zeros(x.shape)\n",
    "   f0[(x>0.45) & (x<0.55)]=1\n",
    "\n",
    "   return f0"
   ]
  },
  {
   "cell_type": "markdown",
   "id": "f15131c4",
   "metadata": {},
   "source": [
    "The Lax-Wendroff scheme is implemented in the following Python function:"
   ]
  },
  {
   "cell_type": "code",
   "execution_count": 2,
   "id": "eb5c6a01",
   "metadata": {
    "tags": [
     "hide-cell"
    ]
   },
   "outputs": [],
   "source": [
    "def LaxWendroff(u0,c,dt,dx,N,M):\n",
    "    \n",
    "    # Initial condition\n",
    "    u=u0.copy()\n",
    "    \n",
    "    # Temporary arrays for step 1 solution\n",
    "    um2=np.zeros((M-1,))\n",
    "    up2=np.zeros((M-1,))\n",
    "\n",
    "    # CFL number\n",
    "    C = c*dt/dx\n",
    "    \n",
    "    for l in range(N):\n",
    "        \n",
    "        # Inflow B.C.\n",
    "        u[0]  = u[0] - C * (u[0] - u[M-2])\n",
    "        \n",
    "        # Step 1: compute u at mid-points m +/- 1/2 and half-step n+1/2\n",
    "        \n",
    "        um2=0.5*(u[1:-1]+u[0:-2])-C/2*(u[1:-1]-u[0:-2])\n",
    "        up2=0.5*(u[2:]+u[1:-1])-C/2*(u[2:]-u[1:-1])\n",
    "        \n",
    "        # Step 2\n",
    "        u[1 : M-1] = u[1 : M-1] - C*(up2-um2)\n",
    "        \n",
    "        u[M-1]  = u[0]\n",
    "    \n",
    "    return u"
   ]
  },
  {
   "cell_type": "markdown",
   "id": "6661901b",
   "metadata": {},
   "source": [
    "In the next code snippet, we set the discretization parameters and integrate the initial condition with the Lax-Wendroff scheme:"
   ]
  },
  {
   "cell_type": "code",
   "execution_count": 3,
   "id": "3efb521c",
   "metadata": {
    "tags": [
     "hide-input"
    ]
   },
   "outputs": [
    {
     "name": "stdout",
     "output_type": "stream",
     "text": [
      "Number of time steps = 30\n",
      "Number of grid points = 100\n",
      "Time step = 0.010000\n",
      "Grid size = 0.010000\n",
      "CFL number = 0.750000\n"
     ]
    }
   ],
   "source": [
    "import numpy as np\n",
    "import matplotlib.pyplot as plt\n",
    "\n",
    "N     = 30       # Number of time steps\n",
    "M     = 100      # Number of grid points\n",
    "c     = 0.75     # Propagation speed\n",
    "\n",
    "dt = 0.01\n",
    "dx = 1/M\n",
    "\n",
    "print(\"Number of time steps = {:d}\".format(N))\n",
    "print(\"Number of grid points = {:d}\".format(M))\n",
    "print(\"Time step = {:f}\".format(dt))\n",
    "print(\"Grid size = {:f}\".format(dx))\n",
    "print(\"CFL number = {:f}\".format(c*dt/dx))\n",
    "\n",
    "# Grid points\n",
    "X=np.linspace(0,1,M)\n",
    "\n",
    "# Integrate the initial condition N time steps\n",
    "U=LaxWendroff(topHat(X),c,dt,dx,N,M)"
   ]
  },
  {
   "cell_type": "markdown",
   "id": "7f98e15c",
   "metadata": {},
   "source": [
    "The solution at the end of the integration is shown below:"
   ]
  },
  {
   "cell_type": "code",
   "execution_count": 4,
   "id": "2b1649f5",
   "metadata": {
    "tags": [
     "hide-input"
    ]
   },
   "outputs": [
    {
     "data": {
      "image/png": "[encoded data removed]",
      "text/plain": [
       "<Figure size 640x480 with 1 Axes>"
      ]
     },
     "metadata": {
      "filenames": {
       "image/png": "/Users/joao/Desktop/GEOF211/numerical-modeling-book/_build/jupyter_execute/NumericalSchemes/schemeLaxWendroff-code_7_0.png"
      }
     },
     "output_type": "display_data"
    }
   ],
   "source": [
    "# Shift the exact solution a distance equivalent to c*N*dt\n",
    "newX = np.mod(X-c*N*dt,1)\n",
    "\n",
    "fig, ax0 = plt.subplots()\n",
    "\n",
    "ax0.plot(X, U, lw = 2, color = \"b\",  label='Lax-Wendroff')\n",
    "ax0.plot(X, topHat(newX), lw = 1, color = \"m\",  label='Exact')\n",
    "\n",
    "ax0.set_title(\"Lax-Wendroff Solution at t={:5.2f}\".format(N*dt))\n",
    "ax0.set_xlabel('$x$')\n",
    "ax0.set_xlim([0, 1])\n",
    "ax0.set_ylabel('$u$')\n",
    "ax0.legend()\n",
    "\n",
    "plt.show()"
   ]
  },
  {
   "cell_type": "markdown",
   "id": "72f68653",
   "metadata": {},
   "source": [
    "The Lex-Wendroff scheme avoids the excessive numerical diffusion of the Upwind scheme, but oscillations are still visible at the sharp transitions of the top hat function. These oscillations are known as the Gibbs phenomenon."
   ]
  }
 ],
 "metadata": {
  "jupytext": {
   "formats": "md:myst",
   "text_representation": {
    "extension": ".md",
    "format_name": "myst"
   }
  },
  "kernelspec": {
   "display_name": "Python 3",
   "language": "python",
   "name": "python3"
  },
  "language_info": {
   "codemirror_mode": {
    "name": "ipython",
    "version": 3
   },
   "file_extension": ".py",
   "mimetype": "text/x-python",
   "name": "python",
   "nbconvert_exporter": "python",
   "pygments_lexer": "ipython3",
   "version": "3.10.9"
  },
  "source_map": [
   11,
   83,
   91,
   95,
   126,
   130,
   155,
   159,
   178
  ]
 },
 "nbformat": 4,
 "nbformat_minor": 5
}