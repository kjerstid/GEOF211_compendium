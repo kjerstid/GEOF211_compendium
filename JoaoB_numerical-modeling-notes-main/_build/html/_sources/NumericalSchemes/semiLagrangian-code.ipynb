{
 "cells": [
  {
   "cell_type": "markdown",
   "id": "f4dc7db1",
   "metadata": {},
   "source": [
    "(scheme:semi-lagrangian)=\n",
    "# The semi-lagrangian scheme\n",
    "\n",
    "We have been using the linear advection equation in its Eulerian form {eq}`eqAdvection`. An alternative form of this equation is \n",
    "\n",
    "$$\n",
    "\\frac{dU}{dt}=0,\n",
    "$$ (eq:advectionLagrangian)\n",
    "\n",
    "where $U(t)=u(x(t),t)$ is the quantity $u(x,t)$ carried by a particle whose trajectory is $x(t)=x(0)+ct$. Equation {eq}`eq:advectionLagrangian` is called the *Lagrangian* form of {eq}`eqAdvection` and it states that $u$ is conserved along particle trajectories.\n",
    "\n",
    "Both forms are equivalent, as we can see if we expand {eq}`eq:advectionLagrangian`:\n",
    "\n",
    "$$\n",
    "\\frac{dU}{dt}=\\frac{du(x(t),t)}{dt}=\\frac{\\partial u}{\\partial t} + \\frac{\\partial u}{\\partial x}\\frac{\\partial x}{\\partial t}=\\frac{\\partial u}{\\partial t} + c\\frac{\\partial u}{\\partial x}=0.\n",
    "$$ (eq:advectionEulerianLagrangian)\n",
    "\n",
    "The conservation of $u$ implies that, over a time interval $[n\\Delta t, (n+1)\\Delta t]$,\n",
    "\n",
    "$$\n",
    "U^{n+1}=U^{n}.\n",
    "$$ (eq:schemeLagrangian)\n",
    "\n",
    "This means that if we know $U^0$, we know the all subsequent $U^n$, along the trajectories of fluid particles. However, this does not work in practice because we don't know the particle trajectories. \n",
    "\n",
    "A more practical approach is to \"reverse\" the procedure.  {numref}`fig:semiLagrangia-grid` shows a part of the t-x diagram between time steps $n$ and $n+1$ and grid positions $m-2$ to $m+2$.\n",
    "\n",
    "```{figure} numerical-schemes-semi-lagrangian-grid.png\n",
    "---\n",
    "height: 400px\n",
    "name: fig:semiLagrangia-grid\n",
    "---\n",
    "t-x diagram between time steps $n$ and $n+1$. The particle at $x_{m+2}$ at time $t^{n+1}$ was at $x_{\\ast}$ at time $t^n$.\n",
    "```\n",
    "The value of $u_{m+2}^{n+1}$ is $U_{m+2}^{n+1}$, the value of $u$ carried by the particle that occupies $x_{m+2}$ at $t^{n+1}$. According to {eq}`eq:schemeLagrangian`, this value is $U_{\\ast}^{n}$, the value of $u$ at $x_{\\ast}$ at $t^n$, which is the position that the particle occupied at $t^n$. \n",
    "\n",
    "During one time step, the particle moves a distance $s=c\\Delta t$. Let $\\sigma=c\\Delta t/\\Delta x=1.25$ ({numref}`fig:semiLagrangia-grid`), so that $s=\\sigma\\Delta x=1.25\\Delta x$. In general, the particle's departure point $x_{\\ast}$ does not coincide with the grid nodes, so we must interpolate $u$ to find $u(x_{\\ast},t^n)$.\n",
    "\n",
    "Let $p=[\\sigma]$ be the integer part of $\\sigma$ and $\\alpha=\\sigma-p$, the fractional part of $\\sigma$. In this example, $p=1$ and $\\alpha=0.25$. The departure point falls between $m-p-1$ and $m-p$, and we can use linear interpolation to obtain $U_{\\ast}^n$:\n",
    "\n",
    "$$\n",
    "U_{\\ast}^n=\\alpha u_{m-p-1}^n + (1-\\alpha)u_{m-p}^n=u_{m+2}^{n+1}, \n",
    "$$\n",
    "\n",
    "which is $u_{m+2}^{n+1}$ because of {eq}`eq:schemeLagrangian`. \n",
    "\n",
    "## Stability of semi-lagragian schemes\n",
    "\n",
    "The semi-lagrangian scheme can be written as\n",
    "\n",
    "$$\n",
    "U_{m}^{n+1}=\\alpha U_{m-p-1}^n + (1-\\alpha)U_{m-p}^n. \n",
    "$$ (eq:semiLagrangian)\n",
    "\n",
    "Let us assume a solution like\n",
    "\n",
    "$$\n",
    "U_m^n=B^ne^{i\\lambda m\\Delta x}\n",
    "$$\n",
    "\n",
    "and replace it in {eq}`eq:semiLagrangian`. After removing the common term $e^{i\\lambda m\\Delta x}$, we obtain\n",
    "\n",
    "$$\n",
    "\\frac{B^{n+1}}{B^n} = \\alpha e^{i\\lambda (-p-1)\\Delta x} + (1-\\alpha)e^{i\\lambda (-p)\\Delta x} \\\\\n",
    "= e^{i\\lambda (-p)\\Delta x}[(1-\\alpha)+\\alpha e^{-i\\lambda\\Delta x}].\n",
    "$$\n",
    "\n",
    "For the scheme to be stable we need that $|B^{n+1}/B^n|\\leq 1$. This can be easily checked:\n",
    "\n",
    "$$\n",
    "\\left|\\frac{B^{n+1}}{B^n}\\right|^2 &= |e^{i\\lambda (-p)\\Delta x}|^2|(1-\\alpha)+\\alpha e^{-i\\lambda\\Delta x}|^2 \\\\\n",
    "&=|(1-\\alpha)+\\alpha(\\cos \\lambda \\Delta x-i\\sin\\lambda\\Delta x)|^2 \\\\\n",
    "&=1-2\\alpha(1-\\alpha)[1-\\cos\\lambda \\Delta x].\n",
    "$$\n",
    "\n",
    "For all $\\theta$, $0\\leq 1 - \\cos\\theta \\leq 2$, so in the worst case scenario, we shall have\n",
    "\n",
    "$$\n",
    "\\left|\\frac{B^{n+1}}{B^n}\\right|^2 = 1-4\\alpha(1-\\alpha)=(1-2\\alpha)^2\\leq 1, \\quad 0<\\alpha<1.\n",
    "$$\n",
    "\n",
    "For $1-\\cos\\lambda \\Delta x=0$, we shall have $|B^{n+1}/B^n|^2=1$. In either case,\n",
    "\n",
    "$$\n",
    "\\left|\\frac{B^{n+1}}{B^n}\\right|^2 \\leq 1,\n",
    "$$\n",
    "\n",
    "so the semi-Lagrangian scheme is unconditionally stable. \n",
    "\n",
    "```{figure} stability-semi-lagrangian.png\n",
    "---\n",
    "height: 400px\n",
    "name: fig:stability-semi-lagrangian\n",
    "---\n",
    "t-x diagram of the Leapfrog and semi-Lagrangian schemes for the linear advection equation, with $\\Delta t=4$, $\\Delta x=3$ and $c=2$. \n",
    "```\n",
    "\n",
    "The unconditional stability of the semi-Lagragian scheme comes from the fact that the *physical* domain of dependence of the solution is always contained in the *numerical* domain of dependence of the scheme. Consider the situation in {numref}`fig:stability-semi-lagrangian`, that represents the t-x diagram of a model where the Leafrog scheme and the semi-Lagrangian are employed to solve the linear advection equation .\n",
    "\n",
    "At time step $n+1$, the Leapfrog scheme is unstable because $\\sigma=c\\Delta t/\\Delta x>1$. This is visible in the diagram because the characteristic line that goes through $x_m^{n+1}$ does not fall within the numerical domain of dependence of the Leapfrog scheme. The characteristics lines are the physical domain of dependence since the solution of the linear advection equation propagates along them. \n",
    "\n",
    "For the semi-Lagrangian scheme the situation is different. As the particle moves along the characteristic line, the departure point $x_{\\ast}^n$ will always fall on the intersection of the characteristic line with the spatial grid $x_m$ of the previous time step. Since all values of $u_m^n$, the physical domain of dependence will always be between two know values of the solution, which can then be interpolated to find $u_{\\ast}^n$.\n",
    "\n",
    "## Application: propagation of top hat function\n",
    "\n",
    "To test the scheme, we are going to apply it to the propagation of the top hat signal."
   ]
  },
  {
   "cell_type": "code",
   "execution_count": 1,
   "id": "a0120470",
   "metadata": {
    "tags": [
     "hide-cell"
    ]
   },
   "outputs": [],
   "source": [
    "def topHat(x):\n",
    "   f0=np.zeros(x.shape)\n",
    "   f0[(x>0.45) & (x<0.55)]=1\n",
    "\n",
    "   return f0"
   ]
  },
  {
   "cell_type": "markdown",
   "id": "bdd76b0d",
   "metadata": {},
   "source": [
    "The Semi-lagrangian scheme is implemented in the following Python function:"
   ]
  },
  {
   "cell_type": "code",
   "execution_count": 2,
   "id": "c74e448b",
   "metadata": {
    "tags": [
     "hide-cell"
    ]
   },
   "outputs": [],
   "source": [
    "def semiLagrangian(u0,c,dt,dx,N,M):\n",
    "\n",
    "    # Store initial condition\n",
    "    u=u0.copy()\n",
    "\n",
    "    # Initial positions in grid coordinates m=1:M\n",
    "    m=np.arange(0,M).astype(int)#x0.copy()\n",
    "\n",
    "    C = c*dt/dx\n",
    "\n",
    "    p=np.floor(C).astype(int)\n",
    "\n",
    "    alpha = C - p\n",
    "\n",
    "    for n in range(N):\n",
    "        \n",
    "        m1=(m-p-1)%M\n",
    "        \n",
    "        m2=(m1+1)%M\n",
    "        \n",
    "        u_minus = (1-alpha)*u[m2] + alpha*u[m1]\n",
    "    \n",
    "        # Forward transport\n",
    "        u = u_minus\n",
    "\n",
    "    return u"
   ]
  },
  {
   "cell_type": "markdown",
   "id": "6a4e0134",
   "metadata": {},
   "source": [
    "In the next code snippet, we set the discretization parameters and integrate the initial condition with the Upwind scheme:"
   ]
  },
  {
   "cell_type": "code",
   "execution_count": 3,
   "id": "ecd31ef6",
   "metadata": {
    "tags": [
     "hide-input"
    ]
   },
   "outputs": [
    {
     "name": "stdout",
     "output_type": "stream",
     "text": [
      "Number of time steps = 30\n",
      "Number of grid points = 200\n",
      "Time step = 0.010000\n",
      "Grid size = 0.005000\n",
      "CFL number = 1.500000\n"
     ]
    }
   ],
   "source": [
    "import numpy as np\n",
    "import matplotlib.pyplot as plt\n",
    "\n",
    "N     = 30       # Number of time steps\n",
    "M     = 200      # Number of grid points\n",
    "c     = 0.75     # Propagation speed\n",
    "\n",
    "dt = 0.01\n",
    "dx = 1/M\n",
    "\n",
    "print(\"Number of time steps = {:d}\".format(N))\n",
    "print(\"Number of grid points = {:d}\".format(M))\n",
    "print(\"Time step = {:f}\".format(dt))\n",
    "print(\"Grid size = {:f}\".format(dx))\n",
    "print(\"CFL number = {:f}\".format(c*dt/dx))\n",
    "\n",
    "# Grid points\n",
    "X=np.linspace(0,1,M)\n",
    "\n",
    "# Integrate the initial condition N time steps\n",
    "U=semiLagrangian(topHat(X),c,dt,dx,N,M)"
   ]
  },
  {
   "cell_type": "markdown",
   "id": "1c863b36",
   "metadata": {},
   "source": [
    "The solution at the end of the integration is shown below:"
   ]
  },
  {
   "cell_type": "code",
   "execution_count": 4,
   "id": "70688d38",
   "metadata": {
    "tags": [
     "hide-input"
    ]
   },
   "outputs": [
    {
     "data": {
      "image/png": "[encoded data removed]",
      "text/plain": [
       "<Figure size 640x480 with 1 Axes>"
      ]
     },
     "metadata": {
      "filenames": {
       "image/png": "/Users/joao/Desktop/GEOF211/numerical-modeling-book/_build/jupyter_execute/NumericalSchemes/semiLagrangian-code_7_0.png"
      }
     },
     "output_type": "display_data"
    }
   ],
   "source": [
    "# Shift the exact solution a distance equivalent to c*N*dt\n",
    "newX = np.mod(X-c*N*dt,1)\n",
    "\n",
    "fig, ax0 = plt.subplots()\n",
    "\n",
    "ax0.plot(X, U, lw = 2, color = \"b\",  label='Semi-lagrangian')\n",
    "ax0.plot(X, topHat(newX), lw = 1, color = \"m\",  label='Exact')\n",
    "\n",
    "ax0.set_title(\"Semi-lagrangian Solution at t={:5.2f}\".format(N*dt))\n",
    "ax0.set_xlabel('$x$')\n",
    "ax0.set_xlim([0, 1])\n",
    "ax0.set_ylabel('$u$')\n",
    "ax0.legend()\n",
    "\n",
    "plt.show()"
   ]
  },
  {
   "cell_type": "markdown",
   "id": "b5bd1d3a",
   "metadata": {},
   "source": [
    "We can observe that the Semi-lagrangian scheme is stable for CFL>1, however dissipative behaviour is observable, due to the first order treatment of the spatial derivatives in the implementation of the scheme."
   ]
  }
 ],
 "metadata": {
  "jupytext": {
   "formats": "md:myst",
   "text_representation": {
    "extension": ".md",
    "format_name": "myst"
   }
  },
  "kernelspec": {
   "display_name": "Python 3",
   "language": "python",
   "name": "python3"
  },
  "language_info": {
   "codemirror_mode": {
    "name": "ipython",
    "version": 3
   },
   "file_extension": ".py",
   "mimetype": "text/x-python",
   "name": "python",
   "nbconvert_exporter": "python",
   "pygments_lexer": "ipython3",
   "version": "3.10.9"
  },
  "source_map": [
   11,
   119,
   127,
   131,
   160,
   164,
   189,
   193,
   212
  ]
 },
 "nbformat": 4,
 "nbformat_minor": 5
}