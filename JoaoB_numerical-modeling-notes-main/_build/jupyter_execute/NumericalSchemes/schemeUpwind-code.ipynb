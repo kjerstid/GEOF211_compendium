{
 "cells": [
  {
   "cell_type": "markdown",
   "id": "85f9a6b1",
   "metadata": {},
   "source": [
    "(scheme:upwind)=\n",
    "# The Upwind Scheme\n",
    "\n",
    "Observation of {numref}`leapfrogDomain` indicates that, for $c>0$, information travels from left to right so the grid nodes to the right of $x_m$ do not provide useful information to the solution at $x_m$. In this case, a numerical scheme may be constructed that only uses the information **upwind** from $x_m$:\n",
    "\n",
    "$$\n",
    "   u_{m}^{n+1} = u_{m}^{n} - c\\frac{\\Delta t}{\\Delta x}(u_{m}^{n}-u_{m-1}^{n})\n",
    "$$ (eqUpwind)\n",
    "\n",
    "where $u_{m}^{n}$, $\\Delta t$ and $\\Delta x$ have the same meaning as for the Leapfrog scheme.\n",
    "\n",
    "The upwind scheme {eq}`eqUpwind` depends on the sign of $c$. For $c<0$, the scheme becomes\n",
    "\n",
    "$$\n",
    "   u_{m}^{n+1} = u_{m}^{n} - c\\frac{\\Delta t}{\\Delta x}(u_{m+1}^{n}-u_{m}^{n})\n",
    "$$ (eqDownwind)\n",
    "\n",
    "as information is travelling from right to left.\n",
    "\n",
    "## Consistency, stability and convergence\n",
    "The scheme's truncation error is $O(\\Delta t,\\Delta x)$, as it used a forward formula for the time derivative and a backward formula for the space derivative (forward if $c<0$) \n",
    "\n",
    "### Stability\n",
    "\n",
    "The stability of the Upwind scheme can be determined by the von Neumann method. Assuming a solution of the form $u_m^n=B^n e^{i\\lambda m\\Delta x}$ and substituting in the difference equation {eq}`eqUpwind` we obtain\n",
    "\n",
    "$$\n",
    "\tu_m^{n+1}=\\left[1-\\sigma \\left(1-e^{-i\\lambda \\Delta x}\\right)\\right]u_m^n\n",
    "$$\n",
    "\n",
    "where $\\sigma=c\\frac{\\Delta t}{\\Delta x}$. Therefore, the amplification factor is $G=\\left[1-\\sigma \\left(1-e^{-i\\lambda \\Delta x}\\right)\\right]$, whose norm is $|G|^2=1-2\\sigma\\left(1-\\cos\\lambda\\Delta x\\right)\\left(1-\\sigma\\right)$. Depending on the value of sigma we can have the following cases:\n",
    "1. $\\sigma=0 \\lor \\sigma=1$: $|G|^2=1$ and the scheme is **neutral** (stable).\n",
    "2. $\\sigma<0 \\lor \\sigma>1$: $|G|^2>1$ and the scheme is **amplifying** (unstable).\n",
    "3. $\\sigma>0 \\land \\sigma<1$: $|G|^2=1$ and the scheme is **damping** (stable).\n",
    "\n",
    "Note that case 2 encompasses two distinct situations. If $\\sigma < 0$, the upwind formulation {eq}`eqUpwind` is being used in the situation where $c<0$ or {eq}`eqDownwind` is being used in the situation where $c>0$. When this occurs the scheme is referred to as **Downwind**. If $\\sigma > 1$, the cause of instability is the same as for the Leapfrog scheme. \n",
    "\n",
    "```{figure} Upwind_Domain.png\n",
    "---\n",
    "height: 600px\n",
    "name: upwindDomain\n",
    "---\n",
    "Domain of influence of the Upwind scheme. \n",
    "```\n",
    "The scheme is conditionally stable with the stability condition being $c\\frac{\\Delta t}{\\Delta x} \\leq 1$. Its domain of dependence is shown in {numref}`upwindDomain`. The previously stable solution with $c<0$ is now an unstable solution, because the scheme is working as a *Downwind* scheme.\n",
    "\n",
    "## Application: propagation of top hat function\n",
    "\n",
    "To test the scheme, we are going to apply it to the propagation of the top hat signal, as we did with the Leapfrog scheme."
   ]
  },
  {
   "cell_type": "code",
   "execution_count": 1,
   "id": "7ba32aee",
   "metadata": {
    "tags": [
     "hide-cell"
    ]
   },
   "outputs": [],
   "source": [
    "def topHat(x):\n",
    "   f0=np.zeros(x.shape)\n",
    "   f0[(x>0.45) & (x<0.55)]=1\n",
    "\n",
    "   return f0"
   ]
  },
  {
   "cell_type": "markdown",
   "id": "29677a10",
   "metadata": {},
   "source": [
    "The Upwind scheme is implemented in the following Python function:"
   ]
  },
  {
   "cell_type": "code",
   "execution_count": 2,
   "id": "cf364ce8",
   "metadata": {
    "tags": [
     "hide-cell"
    ]
   },
   "outputs": [],
   "source": [
    "def upWind(u0,c,dt,dx,N,M):\n",
    "    \n",
    "    # Initial condition\n",
    "    u=u0.copy()\n",
    "\n",
    "    # CFL number\n",
    "    C = c*dt/dx\n",
    "\n",
    "    for l in range(0, N):\n",
    "        \n",
    "        # Inflow B.C.\n",
    "        u[0]  = u[0] - C * (u[0] - u[M-1]) \n",
    "        # Interior/outflow points\n",
    "        u[1 : M] = u[1 : M] - C * (u[1 : M] - u[0 : M - 1]) \n",
    "    \n",
    "    return u"
   ]
  },
  {
   "cell_type": "markdown",
   "id": "2a7749da",
   "metadata": {},
   "source": [
    "In the next code snippet, we set the discretization parameters and integrate the initial condition with the Upwind scheme:"
   ]
  },
  {
   "cell_type": "code",
   "execution_count": 3,
   "id": "e67b9afd",
   "metadata": {
    "tags": [
     "hide-input"
    ]
   },
   "outputs": [
    {
     "name": "stdout",
     "output_type": "stream",
     "text": [
      "Number of time steps = 30\n",
      "Number of grid points = 100\n",
      "Time step = 0.010000\n",
      "Grid size = 0.010000\n",
      "CFL number = 0.750000\n"
     ]
    }
   ],
   "source": [
    "import numpy as np\n",
    "import matplotlib.pyplot as plt\n",
    "\n",
    "N     = 30       # Number of time steps\n",
    "M     = 100      # Number of grid points\n",
    "c     = 0.75     # Propagation speed\n",
    "\n",
    "dt = 0.01\n",
    "dx = 1/M\n",
    "\n",
    "print(\"Number of time steps = {:d}\".format(N))\n",
    "print(\"Number of grid points = {:d}\".format(M))\n",
    "print(\"Time step = {:f}\".format(dt))\n",
    "print(\"Grid size = {:f}\".format(dx))\n",
    "print(\"CFL number = {:f}\".format(c*dt/dx))\n",
    "\n",
    "# Grid points\n",
    "X=np.linspace(0,1,M)\n",
    "\n",
    "# Integrate the initial condition N time steps\n",
    "U=upWind(topHat(X),c,dt,dx,N,M)"
   ]
  },
  {
   "cell_type": "markdown",
   "id": "33ac6ec7",
   "metadata": {},
   "source": [
    "The solution at the end of the integration is shown below:"
   ]
  },
  {
   "cell_type": "code",
   "execution_count": 4,
   "id": "c23c831b",
   "metadata": {
    "tags": [
     "hide-input"
    ]
   },
   "outputs": [
    {
     "data": {
      "image/png": "[encoded data removed]",
      "text/plain": [
       "<Figure size 640x480 with 1 Axes>"
      ]
     },
     "metadata": {
      "filenames": {
       "image/png": "/Users/joao/Desktop/GEOF211/numerical-modeling-book/_build/jupyter_execute/NumericalSchemes/schemeUpwind-code_7_0.png"
      }
     },
     "output_type": "display_data"
    }
   ],
   "source": [
    "# Shift the exact solution a distance equivalent to c*N*dt\n",
    "newX = np.mod(X-c*N*dt,1)\n",
    "\n",
    "fig, ax0 = plt.subplots()\n",
    "\n",
    "ax0.plot(X, U, lw = 2, color = \"b\",  label='Upwind')\n",
    "ax0.plot(X, topHat(newX), lw = 1, color = \"m\",  label='Exact')\n",
    "\n",
    "ax0.set_title(\"Upwind Solution at t={:5.2f}\".format(N*dt))\n",
    "ax0.set_xlabel('$x$')\n",
    "ax0.set_xlim([0, 1])\n",
    "ax0.set_ylabel('$u$')\n",
    "ax0.legend()\n",
    "\n",
    "plt.show()"
   ]
  },
  {
   "cell_type": "markdown",
   "id": "4e6f8608",
   "metadata": {},
   "source": [
    "Unlike the Leapfrog scheme, the solution with the Upwind scheme doesn't show dispersive behaviour. Instead, it presents an excessive smoothing of the abrupt transitions of the initial condition, an effect that is also undesirable. This is characteristic of the Upwind scheme, which is said to be **dissipative** (in excess).\n",
    "\n",
    "The source of the dissipation can be identified in the Upwind scheme as an artificial term that is added to the linear advection equation {eq}`eqAdvection`\n",
    "\n",
    "\\begin{equation}\n",
    "\t\\frac{\\partial u}{\\partial t} + c  \\frac{\\partial u}{\\partial x} = \\color{magenta}\\left(1-\\sigma \\right) c\\frac{\\Delta x}{2}\\frac{\\partial^2 u}{\\partial x^2} + O(\\Delta t^2,\\Delta x^2)\n",
    "\\end{equation}\n",
    "\n",
    "The term has a diffusive character due to the 2nd derivative and therefore it is known as *artifical diffusion* or *numerical diffusion*. \n",
    "\n",
    "The coefficient $\\left(1-\\sigma \\right) c\\frac{\\Delta x}{2}$ of the 2nd derivative is an analog of the physical diffusivity $D$ and can be regarded as an *artificial diffusivity*. \n",
    "The impact of the artificial diffusion will depend on its magnitude relative to the physical advection which is the process that is being modeled. This relative importance is measured by a *grid* Peclet number\n",
    "\n",
    "$$\n",
    "\t\\tilde{P}_e=\\frac{cL}{c \\Delta x (1-\\sigma )/2}\n",
    "$$ \n",
    "\n",
    "which should be $\\gg1$ so as to minimize the effects of numerical diffusion."
   ]
  }
 ],
 "metadata": {
  "jupytext": {
   "formats": "md:myst",
   "text_representation": {
    "extension": ".md",
    "format_name": "myst"
   }
  },
  "kernelspec": {
   "display_name": "Python 3",
   "language": "python",
   "name": "python3"
  },
  "language_info": {
   "codemirror_mode": {
    "name": "ipython",
    "version": 3
   },
   "file_extension": ".py",
   "mimetype": "text/x-python",
   "name": "python",
   "nbconvert_exporter": "python",
   "pygments_lexer": "ipython3",
   "version": "3.10.9"
  },
  "source_map": [
   11,
   62,
   70,
   74,
   93,
   97,
   122,
   126,
   145
  ]
 },
 "nbformat": 4,
 "nbformat_minor": 5
}